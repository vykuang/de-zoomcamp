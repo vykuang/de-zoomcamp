{
 "cells": [
  {
   "attachments": {},
   "cell_type": "markdown",
   "metadata": {},
   "source": [
    "# SQL with Spark"
   ]
  },
  {
   "cell_type": "code",
   "execution_count": 1,
   "metadata": {},
   "outputs": [],
   "source": [
    "from pathlib import Path\n",
    "\n",
    "from pyspark.sql import SparkSession\n",
    "from pyspark.sql import types\n",
    "from pyspark.sql import functions as F"
   ]
  },
  {
   "cell_type": "code",
   "execution_count": 2,
   "metadata": {},
   "outputs": [
    {
     "name": "stderr",
     "output_type": "stream",
     "text": [
      "Setting default log level to \"WARN\".\n",
      "To adjust logging level use sc.setLogLevel(newLevel). For SparkR, use setLogLevel(newLevel).\n"
     ]
    },
    {
     "name": "stdout",
     "output_type": "stream",
     "text": [
      "23/02/22 14:37:32 WARN NativeCodeLoader: Unable to load native-hadoop library for your platform... using builtin-java classes where applicable\n"
     ]
    }
   ],
   "source": [
    "spark = SparkSession.builder.master(\"local[*]\").appName(\"test\").getOrCreate()"
   ]
  },
  {
   "cell_type": "code",
   "execution_count": 3,
   "metadata": {},
   "outputs": [
    {
     "name": "stderr",
     "output_type": "stream",
     "text": [
      "                                                                                \r"
     ]
    }
   ],
   "source": [
    "df_green = spark.read.parquet('../data/taxi_ingest_data/parts/green/*/*')"
   ]
  },
  {
   "cell_type": "code",
   "execution_count": 4,
   "metadata": {},
   "outputs": [
    {
     "name": "stdout",
     "output_type": "stream",
     "text": [
      "root\n",
      " |-- VendorID: integer (nullable = true)\n",
      " |-- lpep_pickup_datetime: timestamp (nullable = true)\n",
      " |-- lpep_dropoff_datetime: timestamp (nullable = true)\n",
      " |-- store_and_fwd_flag: string (nullable = true)\n",
      " |-- RatecodeID: integer (nullable = true)\n",
      " |-- PULocationID: integer (nullable = true)\n",
      " |-- DOLocationID: integer (nullable = true)\n",
      " |-- passenger_count: integer (nullable = true)\n",
      " |-- trip_distance: float (nullable = true)\n",
      " |-- fare_amount: float (nullable = true)\n",
      " |-- extra: float (nullable = true)\n",
      " |-- mta_tax: float (nullable = true)\n",
      " |-- tip_amount: float (nullable = true)\n",
      " |-- tolls_amount: float (nullable = true)\n",
      " |-- ehail_fee: float (nullable = true)\n",
      " |-- improvement_surcharge: float (nullable = true)\n",
      " |-- total_amount: float (nullable = true)\n",
      " |-- payment_type: integer (nullable = true)\n",
      " |-- trip_type: integer (nullable = true)\n",
      " |-- congestion_surcharge: float (nullable = true)\n",
      "\n"
     ]
    }
   ],
   "source": [
    "df_green.printSchema()"
   ]
  },
  {
   "cell_type": "code",
   "execution_count": 18,
   "metadata": {},
   "outputs": [],
   "source": [
    "df_yellow = spark.read.parquet('../data/taxi_ingest_data/parts/yellow/*/*')"
   ]
  },
  {
   "cell_type": "code",
   "execution_count": 6,
   "metadata": {},
   "outputs": [
    {
     "name": "stdout",
     "output_type": "stream",
     "text": [
      "root\n",
      " |-- VendorID: integer (nullable = true)\n",
      " |-- tpep_pickup_datetime: timestamp (nullable = true)\n",
      " |-- tpep_dropoff_datetime: timestamp (nullable = true)\n",
      " |-- passenger_count: integer (nullable = true)\n",
      " |-- trip_distance: float (nullable = true)\n",
      " |-- RatecodeID: integer (nullable = true)\n",
      " |-- store_and_fwd_flag: string (nullable = true)\n",
      " |-- PULocationID: integer (nullable = true)\n",
      " |-- DOLocationID: integer (nullable = true)\n",
      " |-- payment_type: integer (nullable = true)\n",
      " |-- fare_amount: float (nullable = true)\n",
      " |-- extra: float (nullable = true)\n",
      " |-- mta_tax: float (nullable = true)\n",
      " |-- tip_amount: float (nullable = true)\n",
      " |-- tolls_amount: float (nullable = true)\n",
      " |-- improvement_surcharge: float (nullable = true)\n",
      " |-- total_amount: float (nullable = true)\n",
      " |-- congestion_surcharge: float (nullable = true)\n",
      " |-- airport_fee: float (nullable = true)\n",
      "\n"
     ]
    }
   ],
   "source": [
    "df_yellow.printSchema()"
   ]
  },
  {
   "attachments": {},
   "cell_type": "markdown",
   "metadata": {},
   "source": [
    "Same for the most part except for:\n",
    "\n",
    "- green has `ehail_fee`\n",
    "- green's datetime is `lpep_`; yellow is `tpep_`;\n",
    "    - rename both dataset's datetime columns to just `pickup_datetime` and `dropoff_datetime`\n",
    "\n",
    "The steps below roughly mimic the query used to build `fact_trips` table from week 4"
   ]
  },
  {
   "cell_type": "code",
   "execution_count": 19,
   "metadata": {},
   "outputs": [],
   "source": [
    "df_green = df_green \\\n",
    "    .withColumnRenamed('lpep_pickup_datetime', 'pickup_datetime') \\\n",
    "    .withColumnRenamed('lpep_dropoff_datetime', 'dropoff_datetime')\n",
    "\n",
    "df_yellow = df_yellow \\\n",
    "    .withColumnRenamed('tpep_pickup_datetime', 'pickup_datetime') \\\n",
    "    .withColumnRenamed('tpep_dropoff_datetime', 'dropoff_datetime')"
   ]
  },
  {
   "cell_type": "code",
   "execution_count": 20,
   "metadata": {},
   "outputs": [],
   "source": [
    "col_yellow = set(df_yellow.columns)\n",
    "common_cols = [col for col in df_green.columns if col in col_yellow]\n",
    "\n",
    "df_green_sel = df_green \\\n",
    "    .select(common_cols) \\\n",
    "    .withColumn('service_type', F.lit('green'))\n",
    "\n",
    "df_yellow_sel = df_yellow \\\n",
    "    .select(common_cols) \\\n",
    "    .withColumn('service_type', F.lit('yellow'))"
   ]
  },
  {
   "cell_type": "code",
   "execution_count": 21,
   "metadata": {},
   "outputs": [
    {
     "name": "stderr",
     "output_type": "stream",
     "text": [
      "[Stage 10:==============================================>         (14 + 3) / 17]\r"
     ]
    },
    {
     "name": "stdout",
     "output_type": "stream",
     "text": [
      "+------------+--------+\n",
      "|service_type|   count|\n",
      "+------------+--------+\n",
      "|       green| 2802931|\n",
      "|      yellow|55553400|\n",
      "+------------+--------+\n",
      "\n"
     ]
    },
    {
     "name": "stderr",
     "output_type": "stream",
     "text": [
      "                                                                                \r"
     ]
    }
   ],
   "source": [
    "# same as SQL's union all\n",
    "df_trips_data = df_green_sel.unionAll(df_yellow_sel)\n",
    "df_trips_data.groupby('service_type').count().show()"
   ]
  },
  {
   "attachments": {},
   "cell_type": "markdown",
   "metadata": {},
   "source": [
    "Save the `df_trips_data` into a table; lifespan tied to Spark session"
   ]
  },
  {
   "cell_type": "code",
   "execution_count": 14,
   "metadata": {},
   "outputs": [
    {
     "name": "stderr",
     "output_type": "stream",
     "text": [
      "/opt/spark-3.3.1-bin-hadoop3/python/lib/pyspark.zip/pyspark/sql/dataframe.py:229: FutureWarning: Deprecated in 2.0, use createOrReplaceTempView instead.\n"
     ]
    }
   ],
   "source": [
    "df_trips_data.registerTempTable('trips_data')"
   ]
  },
  {
   "cell_type": "code",
   "execution_count": 15,
   "metadata": {},
   "outputs": [],
   "source": [
    "df_trips_data.createOrReplaceTempView('view_trips_data')"
   ]
  },
  {
   "attachments": {},
   "cell_type": "markdown",
   "metadata": {},
   "source": [
    "Query against it using regular SQL syntax"
   ]
  },
  {
   "cell_type": "code",
   "execution_count": 16,
   "metadata": {},
   "outputs": [
    {
     "name": "stderr",
     "output_type": "stream",
     "text": [
      "[Stage 5:==========================================>               (8 + 3) / 11]\r"
     ]
    },
    {
     "name": "stdout",
     "output_type": "stream",
     "text": [
      "+------------+--------+\n",
      "|service_type|count(1)|\n",
      "+------------+--------+\n",
      "|       green| 1734176|\n",
      "|      yellow|30904308|\n",
      "+------------+--------+\n",
      "\n"
     ]
    },
    {
     "name": "stderr",
     "output_type": "stream",
     "text": [
      "                                                                                \r"
     ]
    }
   ],
   "source": [
    "spark.sql(\"\"\"\n",
    "SELECT\n",
    "    service_type,\n",
    "    count(1)\n",
    "FROM\n",
    "    view_trips_data\n",
    "GROUP BY\n",
    "    service_type\n",
    "\"\"\").show()"
   ]
  },
  {
   "attachments": {},
   "cell_type": "markdown",
   "metadata": {},
   "source": [
    "Recreating the monthly revenue by zone report via spark SQL:"
   ]
  },
  {
   "cell_type": "code",
   "execution_count": 24,
   "metadata": {},
   "outputs": [],
   "source": [
    "df_monthly = spark.sql(\"\"\"\n",
    "select\n",
    "    -- Reveneue grouping \n",
    "    PULocationID as revenue_zone,\n",
    "    -- revert back to postgres style syntax, from bigquery\n",
    "    date_trunc('month', pickup_datetime) as revenue_month, \n",
    "    service_type, \n",
    "\n",
    "    -- Revenue calculation\n",
    "    sum(fare_amount) as revenue_monthly_fare,\n",
    "    sum(extra) as revenue_monthly_extra,\n",
    "    sum(mta_tax) as revenue_monthly_mta_tax,\n",
    "    sum(tip_amount) as revenue_monthly_tip_amount,\n",
    "    sum(tolls_amount) as revenue_monthly_tolls_amount,\n",
    "    -- sum(ehail_fee) as revenue_monthly_ehail_fee,\n",
    "    sum(improvement_surcharge) as revenue_monthly_improvement_surcharge,\n",
    "    sum(total_amount) as revenue_monthly_total_amount,\n",
    "    sum(congestion_surcharge) as revenue_monthly_congestion_surcharge,\n",
    "\n",
    "    -- Additional calculations\n",
    "    count(1) as total_monthly_trips,\n",
    "    avg(passenger_count) as avg_monthly_passenger_count,\n",
    "    avg(trip_distance) as avg_monthly_trip_distance\n",
    "\n",
    "    from view_trips_data\n",
    "    group by revenue_zone, revenue_month, service_type\n",
    "    \"\"\")"
   ]
  },
  {
   "attachments": {},
   "cell_type": "markdown",
   "metadata": {},
   "source": [
    "Writing the result back to our \"Data Lake\""
   ]
  },
  {
   "cell_type": "code",
   "execution_count": 25,
   "metadata": {},
   "outputs": [
    {
     "name": "stderr",
     "output_type": "stream",
     "text": [
      "                                                                                \r"
     ]
    }
   ],
   "source": [
    "df_monthly.coalesce(4).write.parquet('../data/reports/revenue/')"
   ]
  },
  {
   "attachments": {},
   "cell_type": "markdown",
   "metadata": {},
   "source": [
    "## `Group By` in Spark"
   ]
  },
  {
   "cell_type": "code",
   "execution_count": null,
   "metadata": {},
   "outputs": [],
   "source": [
    "from pathlib import Path\n",
    "\n",
    "from pyspark.sql import SparkSession\n",
    "from pyspark.sql import types\n",
    "from pyspark.sql import functions as F"
   ]
  },
  {
   "cell_type": "code",
   "execution_count": null,
   "metadata": {},
   "outputs": [
    {
     "name": "stderr",
     "output_type": "stream",
     "text": [
      "Setting default log level to \"WARN\".\n",
      "To adjust logging level use sc.setLogLevel(newLevel). For SparkR, use setLogLevel(newLevel).\n"
     ]
    },
    {
     "name": "stdout",
     "output_type": "stream",
     "text": [
      "23/02/22 14:37:32 WARN NativeCodeLoader: Unable to load native-hadoop library for your platform... using builtin-java classes where applicable\n"
     ]
    }
   ],
   "source": [
    "spark = SparkSession.builder.master(\"local[*]\").appName(\"test\").getOrCreate()"
   ]
  },
  {
   "cell_type": "code",
   "execution_count": 19,
   "metadata": {},
   "outputs": [],
   "source": [
    "parts_dir = Path('../data/taxi_ingest_data/parts/')"
   ]
  },
  {
   "cell_type": "code",
   "execution_count": null,
   "metadata": {},
   "outputs": [
    {
     "name": "stderr",
     "output_type": "stream",
     "text": [
      "                                                                                \r"
     ]
    }
   ],
   "source": [
    "df_green = spark.read.parquet(str(parts_dir / 'green/*/*'))"
   ]
  },
  {
   "cell_type": "code",
   "execution_count": 4,
   "metadata": {},
   "outputs": [],
   "source": [
    "# enable SQL query via spark.sql\n",
    "df_green.createOrReplaceTempView('green')"
   ]
  },
  {
   "cell_type": "code",
   "execution_count": 14,
   "metadata": {},
   "outputs": [],
   "source": [
    "df_green_rev = spark.sql(\n",
    "    sqlQuery=\"\"\"\n",
    "    SELECT\n",
    "        date_trunc('hour', lpep_pickup_datetime) AS hour,\n",
    "        PULocationID AS revenue_zone,\n",
    "        CAST(SUM(total_amount) AS DECIMAL(6,2)) AS amount,\n",
    "        COUNT(1) AS num_records\n",
    "    FROM\n",
    "        green\n",
    "    WHERE\n",
    "        CAST(lpep_pickup_datetime as DATE) BETWEEN \"2020-01-01\" AND \"2021-12-31\"\n",
    "    GROUP BY\n",
    "        hour, revenue_zone\n",
    "    ORDER BY\n",
    "        hour, revenue_zone\n",
    "    \"\"\"\n",
    ")"
   ]
  },
  {
   "cell_type": "code",
   "execution_count": 15,
   "metadata": {},
   "outputs": [
    {
     "name": "stderr",
     "output_type": "stream",
     "text": [
      "[Stage 12:>                                                         (0 + 4) / 4]\r"
     ]
    },
    {
     "name": "stdout",
     "output_type": "stream",
     "text": [
      "+-------------------+------------+-------+-----------+\n",
      "|               hour|revenue_zone| amount|num_records|\n",
      "+-------------------+------------+-------+-----------+\n",
      "|2020-01-01 00:00:00|           7| 769.73|         45|\n",
      "|2020-01-01 00:00:00|          17| 195.03|          9|\n",
      "|2020-01-01 00:00:00|          18|   7.80|          1|\n",
      "|2020-01-01 00:00:00|          22|  15.80|          1|\n",
      "|2020-01-01 00:00:00|          24|  87.60|          3|\n",
      "|2020-01-01 00:00:00|          25| 531.00|         26|\n",
      "|2020-01-01 00:00:00|          29|  61.30|          1|\n",
      "|2020-01-01 00:00:00|          32|  68.95|          2|\n",
      "|2020-01-01 00:00:00|          33| 317.27|         11|\n",
      "|2020-01-01 00:00:00|          35| 129.96|          5|\n",
      "|2020-01-01 00:00:00|          36| 295.34|         11|\n",
      "|2020-01-01 00:00:00|          37| 175.67|          6|\n",
      "|2020-01-01 00:00:00|          38|  98.79|          2|\n",
      "|2020-01-01 00:00:00|          40| 168.98|          8|\n",
      "|2020-01-01 00:00:00|          41|1363.96|         84|\n",
      "|2020-01-01 00:00:00|          42| 799.76|         52|\n",
      "|2020-01-01 00:00:00|          43| 107.52|          6|\n",
      "|2020-01-01 00:00:00|          47|  13.30|          1|\n",
      "|2020-01-01 00:00:00|          49| 266.76|         14|\n",
      "|2020-01-01 00:00:00|          51|  17.80|          2|\n",
      "+-------------------+------------+-------+-----------+\n",
      "only showing top 20 rows\n",
      "\n"
     ]
    },
    {
     "name": "stderr",
     "output_type": "stream",
     "text": [
      "                                                                                \r"
     ]
    }
   ],
   "source": [
    "df_green_rev.show()"
   ]
  },
  {
   "cell_type": "code",
   "execution_count": 17,
   "metadata": {},
   "outputs": [],
   "source": [
    "rev_report_dir = Path(\"../data/reports/revenue/\")"
   ]
  },
  {
   "cell_type": "code",
   "execution_count": 18,
   "metadata": {},
   "outputs": [
    {
     "name": "stderr",
     "output_type": "stream",
     "text": [
      "                                                                                \r"
     ]
    }
   ],
   "source": [
    "df_green_rev \\\n",
    "    .repartition(20) \\\n",
    "    .write \\\n",
    "    .parquet(str(rev_report_dir / 'green'))"
   ]
  },
  {
   "cell_type": "code",
   "execution_count": 20,
   "metadata": {},
   "outputs": [],
   "source": [
    "df_yellow = spark.read.parquet(str(parts_dir / 'yellow/*/*'))"
   ]
  },
  {
   "cell_type": "code",
   "execution_count": 21,
   "metadata": {},
   "outputs": [],
   "source": [
    "df_yellow.createOrReplaceTempView('yellow')"
   ]
  },
  {
   "cell_type": "code",
   "execution_count": 24,
   "metadata": {},
   "outputs": [],
   "source": [
    "df_yellow_rev = spark.sql(\n",
    "    sqlQuery=\"\"\"\n",
    "    SELECT\n",
    "        date_trunc('hour', tpep_pickup_datetime) AS hour,\n",
    "        PULocationID AS revenue_zone,\n",
    "        CAST(SUM(total_amount) AS DECIMAL(6,2)) AS amount,\n",
    "        COUNT(1) AS num_records\n",
    "    FROM\n",
    "        yellow\n",
    "    WHERE\n",
    "        CAST(tpep_pickup_datetime as DATE) BETWEEN \"2020-01-01\" AND \"2021-12-31\"\n",
    "    GROUP BY\n",
    "        hour, revenue_zone\n",
    "    ORDER BY\n",
    "        hour, revenue_zone\n",
    "    \"\"\"\n",
    ")"
   ]
  },
  {
   "cell_type": "code",
   "execution_count": 25,
   "metadata": {},
   "outputs": [
    {
     "name": "stderr",
     "output_type": "stream",
     "text": [
      "[Stage 28:>                                                         (0 + 4) / 4]\r"
     ]
    },
    {
     "name": "stdout",
     "output_type": "stream",
     "text": [
      "+-------------------+------------+-------+-----------+\n",
      "|               hour|revenue_zone| amount|num_records|\n",
      "+-------------------+------------+-------+-----------+\n",
      "|2020-01-01 00:00:00|           3|  25.00|          1|\n",
      "|2020-01-01 00:00:00|           4|1004.30|         57|\n",
      "|2020-01-01 00:00:00|           7| 455.17|         38|\n",
      "|2020-01-01 00:00:00|          10|  42.41|          2|\n",
      "|2020-01-01 00:00:00|          12| 107.00|          6|\n",
      "|2020-01-01 00:00:00|          13|1214.80|         56|\n",
      "|2020-01-01 00:00:00|          14|   8.80|          1|\n",
      "|2020-01-01 00:00:00|          15|  34.09|          1|\n",
      "|2020-01-01 00:00:00|          17| 220.21|          8|\n",
      "|2020-01-01 00:00:00|          18|   5.80|          1|\n",
      "|2020-01-01 00:00:00|          24| 754.95|         45|\n",
      "|2020-01-01 00:00:00|          25| 324.35|         16|\n",
      "|2020-01-01 00:00:00|          32|  18.00|          1|\n",
      "|2020-01-01 00:00:00|          33| 255.56|          8|\n",
      "|2020-01-01 00:00:00|          34|  19.30|          1|\n",
      "|2020-01-01 00:00:00|          36| 109.17|          3|\n",
      "|2020-01-01 00:00:00|          37| 161.61|          7|\n",
      "|2020-01-01 00:00:00|          40|  89.97|          5|\n",
      "|2020-01-01 00:00:00|          41|1256.53|         80|\n",
      "|2020-01-01 00:00:00|          42| 635.35|         46|\n",
      "+-------------------+------------+-------+-----------+\n",
      "only showing top 20 rows\n",
      "\n"
     ]
    },
    {
     "name": "stderr",
     "output_type": "stream",
     "text": [
      "                                                                                \r"
     ]
    }
   ],
   "source": [
    "df_yellow_rev.show()"
   ]
  },
  {
   "cell_type": "code",
   "execution_count": 26,
   "metadata": {},
   "outputs": [
    {
     "name": "stderr",
     "output_type": "stream",
     "text": [
      "                                                                                \r"
     ]
    }
   ],
   "source": [
    "df_yellow_rev \\\n",
    "    .repartition(20) \\\n",
    "    .write \\\n",
    "    .parquet(str(rev_report_dir / 'yellow'))"
   ]
  },
  {
   "attachments": {},
   "cell_type": "markdown",
   "metadata": {},
   "source": [
    "## `JOIN` in Spark\n",
    "\n",
    "Let's join the two tables above, `df_green_rev` and `df_yellow_rev` on the keys `revenue_zone` and `hour`"
   ]
  },
  {
   "cell_type": "code",
   "execution_count": 29,
   "metadata": {},
   "outputs": [],
   "source": [
    "df_rev = \\\n",
    "    df_green_rev \\\n",
    "        .withColumnRenamed('amount', 'green_amount') \\\n",
    "        .withColumnRenamed('num_records', 'green_num_records') \\\n",
    "    .join(\n",
    "        df_yellow_rev \\\n",
    "            .withColumnRenamed('amount', 'yellow_amount') \\\n",
    "            .withColumnRenamed('num_records', 'yellow_num_records'),\n",
    "        on=['hour', 'revenue_zone'],\n",
    "        how='outer')"
   ]
  },
  {
   "cell_type": "code",
   "execution_count": 30,
   "metadata": {},
   "outputs": [
    {
     "name": "stderr",
     "output_type": "stream",
     "text": [
      "[Stage 50:>                                                         (0 + 1) / 1]\r"
     ]
    },
    {
     "name": "stdout",
     "output_type": "stream",
     "text": [
      "+-------------------+------------+------------+-----------------+-------------+------------------+\n",
      "|               hour|revenue_zone|green_amount|green_num_records|yellow_amount|yellow_num_records|\n",
      "+-------------------+------------+------------+-----------------+-------------+------------------+\n",
      "|2020-01-01 00:00:00|           3|        null|             null|        25.00|                 1|\n",
      "|2020-01-01 00:00:00|           4|        null|             null|      1004.30|                57|\n",
      "|2020-01-01 00:00:00|           7|      769.73|               45|       455.17|                38|\n",
      "|2020-01-01 00:00:00|          12|        null|             null|       107.00|                 6|\n",
      "|2020-01-01 00:00:00|          37|      175.67|                6|       161.61|                 7|\n",
      "|2020-01-01 00:00:00|          40|      168.98|                8|        89.97|                 5|\n",
      "|2020-01-01 00:00:00|          45|        null|             null|       732.48|                42|\n",
      "|2020-01-01 00:00:00|          47|       13.30|                1|         8.30|                 1|\n",
      "|2020-01-01 00:00:00|          51|       17.80|                2|        31.00|                 1|\n",
      "|2020-01-01 00:00:00|          62|       15.95|                1|        61.43|                 1|\n",
      "|2020-01-01 00:00:00|          68|        null|             null|      7825.07|               396|\n",
      "|2020-01-01 00:00:00|          73|        null|             null|        17.30|                 1|\n",
      "|2020-01-01 00:00:00|          74|      317.09|               24|       586.21|                47|\n",
      "|2020-01-01 00:00:00|          77|       75.99|                2|       134.24|                 3|\n",
      "|2020-01-01 00:00:00|          80|      364.32|               13|       371.40|                20|\n",
      "|2020-01-01 00:00:00|          83|       94.10|                7|         9.80|                 1|\n",
      "|2020-01-01 00:00:00|          88|        null|             null|       823.80|                36|\n",
      "|2020-01-01 00:00:00|          89|       11.30|                1|        48.16|                 2|\n",
      "|2020-01-01 00:00:00|          94|       64.24|                3|        13.30|                 1|\n",
      "|2020-01-01 00:00:00|          95|      202.20|               15|         6.30|                 1|\n",
      "+-------------------+------------+------------+-----------------+-------------+------------------+\n",
      "only showing top 20 rows\n",
      "\n"
     ]
    },
    {
     "name": "stderr",
     "output_type": "stream",
     "text": [
      "                                                                                \r"
     ]
    }
   ],
   "source": [
    "df_rev.show()"
   ]
  },
  {
   "attachments": {},
   "cell_type": "markdown",
   "metadata": {},
   "source": [
    "The `null`s come from the fact we did an `outer join`; the num_records and amount that are null came from the other table, where there were no trips for that `hour` and `revenue_zone`"
   ]
  },
  {
   "cell_type": "code",
   "execution_count": 31,
   "metadata": {},
   "outputs": [
    {
     "name": "stderr",
     "output_type": "stream",
     "text": [
      "                                                                                \r"
     ]
    }
   ],
   "source": [
    "df_rev.repartition(20).write.parquet(str(rev_report_dir / 'total'))"
   ]
  },
  {
   "cell_type": "code",
   "execution_count": 33,
   "metadata": {},
   "outputs": [
    {
     "name": "stdout",
     "output_type": "stream",
     "text": [
      "+----------+-------------+--------------------+------------+\n",
      "|LocationID|      Borough|                Zone|service_zone|\n",
      "+----------+-------------+--------------------+------------+\n",
      "|         1|          EWR|      Newark Airport|         EWR|\n",
      "|         2|       Queens|         Jamaica Bay|   Boro Zone|\n",
      "|         3|        Bronx|Allerton/Pelham G...|   Boro Zone|\n",
      "|         4|    Manhattan|       Alphabet City| Yellow Zone|\n",
      "|         5|Staten Island|       Arden Heights|   Boro Zone|\n",
      "|         6|Staten Island|Arrochar/Fort Wad...|   Boro Zone|\n",
      "|         7|       Queens|             Astoria|   Boro Zone|\n",
      "|         8|       Queens|        Astoria Park|   Boro Zone|\n",
      "|         9|       Queens|          Auburndale|   Boro Zone|\n",
      "|        10|       Queens|        Baisley Park|   Boro Zone|\n",
      "|        11|     Brooklyn|          Bath Beach|   Boro Zone|\n",
      "|        12|    Manhattan|        Battery Park| Yellow Zone|\n",
      "|        13|    Manhattan|   Battery Park City| Yellow Zone|\n",
      "|        14|     Brooklyn|           Bay Ridge|   Boro Zone|\n",
      "|        15|       Queens|Bay Terrace/Fort ...|   Boro Zone|\n",
      "|        16|       Queens|             Bayside|   Boro Zone|\n",
      "|        17|     Brooklyn|             Bedford|   Boro Zone|\n",
      "|        18|        Bronx|        Bedford Park|   Boro Zone|\n",
      "|        19|       Queens|           Bellerose|   Boro Zone|\n",
      "|        20|        Bronx|             Belmont|   Boro Zone|\n",
      "+----------+-------------+--------------------+------------+\n",
      "only showing top 20 rows\n",
      "\n"
     ]
    }
   ],
   "source": [
    "df_zones = spark \\\n",
    "    .read \\\n",
    "    .option('header', 'true') \\\n",
    "    .csv('../data/taxi_ingest_data/taxi_zone_lookup.csv')\n",
    "df_zones.show()"
   ]
  },
  {
   "cell_type": "code",
   "execution_count": 34,
   "metadata": {},
   "outputs": [
    {
     "name": "stderr",
     "output_type": "stream",
     "text": [
      "[Stage 67:>                                                         (0 + 1) / 1]\r"
     ]
    },
    {
     "name": "stdout",
     "output_type": "stream",
     "text": [
      "+-------------------+------------+------------+-----------------+-------------+------------------+----------+---------+--------------------+------------+\n",
      "|               hour|revenue_zone|green_amount|green_num_records|yellow_amount|yellow_num_records|LocationID|  Borough|                Zone|service_zone|\n",
      "+-------------------+------------+------------+-----------------+-------------+------------------+----------+---------+--------------------+------------+\n",
      "|2020-01-01 00:00:00|           3|        null|             null|        25.00|                 1|         3|    Bronx|Allerton/Pelham G...|   Boro Zone|\n",
      "|2020-01-01 00:00:00|           4|        null|             null|      1004.30|                57|         4|Manhattan|       Alphabet City| Yellow Zone|\n",
      "|2020-01-01 00:00:00|           7|      769.73|               45|       455.17|                38|         7|   Queens|             Astoria|   Boro Zone|\n",
      "|2020-01-01 00:00:00|          12|        null|             null|       107.00|                 6|        12|Manhattan|        Battery Park| Yellow Zone|\n",
      "|2020-01-01 00:00:00|          37|      175.67|                6|       161.61|                 7|        37| Brooklyn|      Bushwick South|   Boro Zone|\n",
      "|2020-01-01 00:00:00|          40|      168.98|                8|        89.97|                 5|        40| Brooklyn|     Carroll Gardens|   Boro Zone|\n",
      "|2020-01-01 00:00:00|          45|        null|             null|       732.48|                42|        45|Manhattan|           Chinatown| Yellow Zone|\n",
      "|2020-01-01 00:00:00|          47|       13.30|                1|         8.30|                 1|        47|    Bronx|  Claremont/Bathgate|   Boro Zone|\n",
      "|2020-01-01 00:00:00|          51|       17.80|                2|        31.00|                 1|        51|    Bronx|          Co-Op City|   Boro Zone|\n",
      "|2020-01-01 00:00:00|          62|       15.95|                1|        61.43|                 1|        62| Brooklyn| Crown Heights South|   Boro Zone|\n",
      "|2020-01-01 00:00:00|          68|        null|             null|      7825.07|               396|        68|Manhattan|        East Chelsea| Yellow Zone|\n",
      "|2020-01-01 00:00:00|          73|        null|             null|        17.30|                 1|        73|   Queens|       East Flushing|   Boro Zone|\n",
      "|2020-01-01 00:00:00|          74|      317.09|               24|       586.21|                47|        74|Manhattan|   East Harlem North|   Boro Zone|\n",
      "|2020-01-01 00:00:00|          77|       75.99|                2|       134.24|                 3|        77| Brooklyn|East New York/Pen...|   Boro Zone|\n",
      "|2020-01-01 00:00:00|          80|      364.32|               13|       371.40|                20|        80| Brooklyn|   East Williamsburg|   Boro Zone|\n",
      "|2020-01-01 00:00:00|          83|       94.10|                7|         9.80|                 1|        83|   Queens|    Elmhurst/Maspeth|   Boro Zone|\n",
      "|2020-01-01 00:00:00|          88|        null|             null|       823.80|                36|        88|Manhattan|Financial Distric...| Yellow Zone|\n",
      "|2020-01-01 00:00:00|          89|       11.30|                1|        48.16|                 2|        89| Brooklyn|Flatbush/Ditmas Park|   Boro Zone|\n",
      "|2020-01-01 00:00:00|          94|       64.24|                3|        13.30|                 1|        94|    Bronx|       Fordham South|   Boro Zone|\n",
      "|2020-01-01 00:00:00|          95|      202.20|               15|         6.30|                 1|        95|   Queens|        Forest Hills|   Boro Zone|\n",
      "+-------------------+------------+------------+-----------------+-------------+------------------+----------+---------+--------------------+------------+\n",
      "only showing top 20 rows\n",
      "\n"
     ]
    },
    {
     "name": "stderr",
     "output_type": "stream",
     "text": [
      "                                                                                \r"
     ]
    }
   ],
   "source": [
    "df_result = df_rev.join(df_zones, df_rev.revenue_zone == df_zones.LocationID)\n",
    "df_result.show()"
   ]
  },
  {
   "cell_type": "code",
   "execution_count": 35,
   "metadata": {},
   "outputs": [
    {
     "name": "stderr",
     "output_type": "stream",
     "text": [
      "                                                                                \r"
     ]
    }
   ],
   "source": [
    "df_result = df_result.drop('LocationID', 'revenue_zone')\n",
    "df_result.write.parquet(str(rev_report_dir / 'total_with_zones'))"
   ]
  },
  {
   "cell_type": "code",
   "execution_count": null,
   "metadata": {},
   "outputs": [],
   "source": []
  }
 ],
 "metadata": {
  "kernelspec": {
   "display_name": "de-zoomcamp-ofDTZRjf-py3.10",
   "language": "python",
   "name": "python3"
  },
  "language_info": {
   "codemirror_mode": {
    "name": "ipython",
    "version": 3
   },
   "file_extension": ".py",
   "mimetype": "text/x-python",
   "name": "python",
   "nbconvert_exporter": "python",
   "pygments_lexer": "ipython3",
   "version": "3.10.6"
  },
  "orig_nbformat": 4,
  "vscode": {
   "interpreter": {
    "hash": "a5353673437182399eff36f4c16ed56ea0c7acdfe0ac221ac5d31504a99f322a"
   }
  }
 },
 "nbformat": 4,
 "nbformat_minor": 2
}
