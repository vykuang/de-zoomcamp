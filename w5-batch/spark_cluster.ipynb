{
 "cells": [
  {
   "cell_type": "code",
   "execution_count": 1,
   "metadata": {},
   "outputs": [],
   "source": [
    "from pathlib import Path\n",
    "import os\n",
    "from dotenv import load_dotenv\n",
    "\n",
    "import pyspark\n",
    "from pyspark.sql import SparkSession\n",
    "from pyspark.conf import SparkConf\n",
    "from pyspark.context import SparkContext"
   ]
  },
  {
   "cell_type": "code",
   "execution_count": 2,
   "metadata": {},
   "outputs": [
    {
     "name": "stdout",
     "output_type": "stream",
     "text": [
      "23/02/27 14:53:25 WARN NativeCodeLoader: Unable to load native-hadoop library for your platform... using builtin-java classes where applicable\n"
     ]
    },
    {
     "name": "stderr",
     "output_type": "stream",
     "text": [
      "Setting default log level to \"WARN\".\n",
      "To adjust logging level use sc.setLogLevel(newLevel). For SparkR, use setLogLevel(newLevel).\n"
     ]
    }
   ],
   "source": [
    "load_dotenv()\n",
    "\n",
    "SPARK_MASTER_HOST = os.getenv(\"SPARK_MASTER_HOST\")\n",
    "SPARK_JARS = os.getenv(\"SPARK_JARS\")\n",
    "# config for connecting to GCS\n",
    "conf = SparkConf() \\\n",
    "    .setMaster(SPARK_MASTER_HOST) \\\n",
    "    .setAppName('test_standalone') \\\n",
    "    .set(\"spark.jars\", SPARK_JARS)\n",
    "\n",
    "sc = SparkContext(conf=conf)\n",
    "\n",
    "hadoop_conf = sc._jsc.hadoopConfiguration()\n",
    "\n",
    "hadoop_conf.set(\"fs.AbstractFileSystem.gs.impl\",  \"com.google.cloud.hadoop.fs.gcs.GoogleHadoopFS\")\n",
    "hadoop_conf.set(\"fs.gs.impl\", \"com.google.cloud.hadoop.fs.gcs.GoogleHadoopFileSystem\")\n"
   ]
  },
  {
   "cell_type": "markdown",
   "metadata": {},
   "source": [
    "Instantiate a Spark Session"
   ]
  },
  {
   "cell_type": "code",
   "execution_count": 3,
   "metadata": {},
   "outputs": [],
   "source": [
    "spark = SparkSession.builder \\\n",
    "    .config(conf=sc.getConf()) \\\n",
    "    .getOrCreate()"
   ]
  },
  {
   "cell_type": "markdown",
   "metadata": {},
   "source": [
    "Instantiate Spark Master for workers to attach to\n",
    "\n",
    "```bash\n",
    "cd $SPARK_HOME \n",
    "./sbin/start-master.sh\n",
    "```"
   ]
  },
  {
   "cell_type": "markdown",
   "metadata": {},
   "source": [
    "Before running any jobs, we must attach a worker to the master with\n",
    "\n",
    "```bash\n",
    "cd $SPARK_HOME\n",
    "./sbin/start-worker.sh $SPARK_MASTER_HOST \\\n",
    "    --memory 4G \\\n",
    "    --webui-port 8081 \\\n",
    "    --cores 2 \\\n",
    "    --dir $SPARK_HOME/work \\\n",
    "    --properties-file $SPARK_HOME/conf/spark-defaults.conf\n",
    "```"
   ]
  },
  {
   "cell_type": "code",
   "execution_count": 5,
   "metadata": {},
   "outputs": [],
   "source": [
    "DATA_LAKE = os.getenv('DATA_LAKE')\n",
    "df_green = spark.read.parquet(f'gs://{DATA_LAKE}/data/parts/green/*/*')"
   ]
  },
  {
   "cell_type": "markdown",
   "metadata": {},
   "source": [
    "Rebuild the `revenue_report` table by converting the `spark_sql` notebook into a script, this time by submitting it as a job to our standalone cluster\n",
    "\n",
    "### Set environment variables to executors\n",
    "\n",
    "1. `spark-submit --conf spark.executorEnv.SOME_ENV=SOME_VAL`\n",
    "\n",
    "    Can also edit `$SPARK_HOME/conf/spark-defaults.conf` file\n",
    "1. Add env var by creating SparkSession\n",
    "\n",
    "    ```python\n",
    "    # Create SparkSession\n",
    "    spark = SparkSession.builder \\\n",
    "           .appName('test') \\\n",
    "           .config(\"spark.executorEnv.SOME_ENVIRONMENT\", \"SOME_VALUE\") \\\n",
    "           .getOrCreate()\n",
    "    ```\n",
    "1. Spark Config\n",
    "    Set across executors\n",
    "\n",
    "    ```python\n",
    "    # Create SparkSession\n",
    "    spark = SparkSession.builder \\\n",
    "           .appName('test') \\\n",
    "           .config(\"SOME_ENVIRONMENT\", \"SOME_VALUE\") \\\n",
    "           .getOrCreate()\n",
    "    ```\n",
    "    \n",
    "### Spark-submit\n",
    "\n",
    "The python file to be submitted still needs to create `SparkSession`; that is the entrypoint for our script to use Spark resources\n",
    "\n",
    "```bash\n",
    "PQ_YELLOW=\"gs://$DTC_DATA_LAKE/data/raw/yellow/*\"\n",
    "PQ_GREEN=\"gs://$DTC_DATA_LAKE/data/raw/green/*\"\n",
    "PQ_REPORT=\"gs://$DTC_DATA_LAKE/data/report/yg_monthly/\"\n",
    "\n",
    "spark-submit \\\n",
    "    --master $SPARK_MASTER \\\n",
    "    --jars $SPARK_GCS_JAR \\\n",
    "    spark_sql.py \\\n",
    "    -y $PQ_YELLOW \\\n",
    "    -g $PQ_GREEN \\\n",
    "    -O $PQ_REPORT\n",
    "```\n",
    "\n",
    "Before running that command, export these environment vars:\n",
    "\n",
    "- $DTC_DATA_LAKE\n",
    "- $SPARK_MASTER_HOST\n",
    "- $SPARK_GCS_JAR"
   ]
  },
  {
   "cell_type": "markdown",
   "metadata": {},
   "source": []
  }
 ],
 "metadata": {
  "kernelspec": {
   "display_name": "Python 3 (ipykernel)",
   "language": "python",
   "name": "python3"
  },
  "language_info": {
   "codemirror_mode": {
    "name": "ipython",
    "version": 3
   },
   "file_extension": ".py",
   "mimetype": "text/x-python",
   "name": "python",
   "nbconvert_exporter": "python",
   "pygments_lexer": "ipython3",
   "version": "3.10.6"
  },
  "vscode": {
   "interpreter": {
    "hash": "a5353673437182399eff36f4c16ed56ea0c7acdfe0ac221ac5d31504a99f322a"
   }
  }
 },
 "nbformat": 4,
 "nbformat_minor": 4
}
