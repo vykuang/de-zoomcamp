{
 "cells": [
  {
   "cell_type": "markdown",
   "metadata": {},
   "source": [
    "# Schema setup for NY taxi dataset\n",
    "\n",
    "1. Download green and yellow, years 2020-2021\n",
    "    - `data/taxi_ingest_data/raw/<type>/<filename>`\n",
    "    - use `download_taxi.sh` script\n",
    "        - arg1: type\n",
    "        - arg2: year\n",
    "    - e.g. `data/taxi_ingest_data/raw/fhv/fhv_tripdata_2020-02.parquet`\n",
    "    - gzip in place\n",
    "1. Read raw data file from gzip and set schema\n",
    "    - read from above\n",
    "    - set schema\n",
    "    - repartition\n",
    "    - write to `data/taxi_ingest_data/staging/<type>/<year>/<month>`\n",
    "\n",
    "I don't think casting parquet files are a good idea. If we need to recast, cast from `csv`. \n",
    "\n",
    "Alternatively read into pandas before writing back into parquet for partitioning"
   ]
  },
  {
   "cell_type": "code",
   "execution_count": 1,
   "metadata": {},
   "outputs": [],
   "source": [
    "import pyspark\n",
    "from pyspark.sql import SparkSession\n",
    "import pandas as pd\n",
    "from pathlib import Path\n",
    "from pyspark.sql import types"
   ]
  },
  {
   "cell_type": "code",
   "execution_count": 2,
   "metadata": {},
   "outputs": [
    {
     "name": "stderr",
     "output_type": "stream",
     "text": [
      "Setting default log level to \"WARN\".\n",
      "To adjust logging level use sc.setLogLevel(newLevel). For SparkR, use setLogLevel(newLevel).\n"
     ]
    },
    {
     "name": "stdout",
     "output_type": "stream",
     "text": [
      "23/02/21 05:20:13 WARN NativeCodeLoader: Unable to load native-hadoop library for your platform... using builtin-java classes where applicable\n"
     ]
    }
   ],
   "source": [
    "spark = SparkSession.builder \\\n",
    "    .master('local[*]') \\\n",
    "    .appName('test') \\\n",
    "    .getOrCreate()"
   ]
  },
  {
   "cell_type": "code",
   "execution_count": 3,
   "metadata": {},
   "outputs": [
    {
     "name": "stderr",
     "output_type": "stream",
     "text": [
      "                                                                                \r"
     ]
    }
   ],
   "source": [
    "hv_path = Path(\"../data/taxi_ingest_data/raw/fhvhv/fhvhv_tripdata_2021-01.parquet\")\n",
    "\n",
    "df = spark.read \\\n",
    "    .option('header','true') \\\n",
    "    .parquet(str(hv_path))"
   ]
  },
  {
   "cell_type": "code",
   "execution_count": 7,
   "metadata": {},
   "outputs": [
    {
     "data": {
      "text/plain": [
       "[('hvfhs_license_num', 'string'),\n",
       " ('dispatching_base_num', 'string'),\n",
       " ('originating_base_num', 'string'),\n",
       " ('request_datetime', 'timestamp'),\n",
       " ('on_scene_datetime', 'timestamp'),\n",
       " ('pickup_datetime', 'timestamp'),\n",
       " ('dropoff_datetime', 'timestamp'),\n",
       " ('PULocationID', 'bigint'),\n",
       " ('DOLocationID', 'bigint'),\n",
       " ('trip_miles', 'double'),\n",
       " ('trip_time', 'bigint'),\n",
       " ('base_passenger_fare', 'double'),\n",
       " ('tolls', 'double'),\n",
       " ('bcf', 'double'),\n",
       " ('sales_tax', 'double'),\n",
       " ('congestion_surcharge', 'double'),\n",
       " ('airport_fee', 'double'),\n",
       " ('tips', 'double'),\n",
       " ('driver_pay', 'double'),\n",
       " ('shared_request_flag', 'string'),\n",
       " ('shared_match_flag', 'string'),\n",
       " ('access_a_ride_flag', 'string'),\n",
       " ('wav_request_flag', 'string'),\n",
       " ('wav_match_flag', 'string')]"
      ]
     },
     "execution_count": 7,
     "metadata": {},
     "output_type": "execute_result"
    }
   ],
   "source": [
    "df.dtypes"
   ]
  },
  {
   "cell_type": "code",
   "execution_count": 9,
   "metadata": {},
   "outputs": [
    {
     "name": "stderr",
     "output_type": "stream",
     "text": [
      "[Stage 4:=======================================>                   (2 + 1) / 3]\r"
     ]
    },
    {
     "name": "stdout",
     "output_type": "stream",
     "text": [
      "+-------------------+-------------------+---------+\n",
      "|    pickup_datetime|   dropoff_datetime|trip_time|\n",
      "+-------------------+-------------------+---------+\n",
      "|2021-01-01 00:33:44|2021-01-01 00:49:07|      923|\n",
      "|2021-01-01 00:55:19|2021-01-01 01:18:21|     1382|\n",
      "|2021-01-01 00:23:56|2021-01-01 00:38:05|      849|\n",
      "|2021-01-01 00:42:51|2021-01-01 00:45:50|      179|\n",
      "|2021-01-01 00:48:14|2021-01-01 01:08:42|     1228|\n",
      "+-------------------+-------------------+---------+\n",
      "only showing top 5 rows\n",
      "\n"
     ]
    },
    {
     "name": "stderr",
     "output_type": "stream",
     "text": [
      "                                                                                \r"
     ]
    }
   ],
   "source": [
    "df.select('pickup_datetime','dropoff_datetime','trip_time').show(5)"
   ]
  },
  {
   "cell_type": "code",
   "execution_count": 12,
   "metadata": {},
   "outputs": [
    {
     "data": {
      "text/plain": [
       "[('VendorID', 'bigint'),\n",
       " ('lpep_pickup_datetime', 'timestamp'),\n",
       " ('lpep_dropoff_datetime', 'timestamp'),\n",
       " ('store_and_fwd_flag', 'string'),\n",
       " ('RatecodeID', 'double'),\n",
       " ('PULocationID', 'bigint'),\n",
       " ('DOLocationID', 'bigint'),\n",
       " ('passenger_count', 'double'),\n",
       " ('trip_distance', 'double'),\n",
       " ('fare_amount', 'double'),\n",
       " ('extra', 'double'),\n",
       " ('mta_tax', 'double'),\n",
       " ('tip_amount', 'double'),\n",
       " ('tolls_amount', 'double'),\n",
       " ('ehail_fee', 'int'),\n",
       " ('improvement_surcharge', 'double'),\n",
       " ('total_amount', 'double'),\n",
       " ('payment_type', 'double'),\n",
       " ('trip_type', 'double'),\n",
       " ('congestion_surcharge', 'double')]"
      ]
     },
     "execution_count": 12,
     "metadata": {},
     "output_type": "execute_result"
    }
   ],
   "source": [
    "g_path = Path('../data/taxi_ingest_data/raw/green/green_tripdata_2020-01.parquet')\n",
    "green = spark.read \\\n",
    "    .option('header', 'true') \\\n",
    "    .parquet(str(g_path))\n",
    "green.dtypes\n"
   ]
  },
  {
   "cell_type": "code",
   "execution_count": 16,
   "metadata": {},
   "outputs": [
    {
     "name": "stderr",
     "output_type": "stream",
     "text": [
      "[Stage 16:=============================>                            (1 + 1) / 2]\r"
     ]
    },
    {
     "name": "stdout",
     "output_type": "stream",
     "text": [
      "+-------+-------------------+---------+------------------+\n",
      "|summary|           VendorID|ehail_fee|      PULocationID|\n",
      "+-------+-------------------+---------+------------------+\n",
      "|  count|             447770|        0|            447770|\n",
      "|   mean| 1.8742948388681688|     null|108.12123634901847|\n",
      "| stddev|0.33151714743469723|     null|  71.1659562223991|\n",
      "|    min|                  1|     null|                 1|\n",
      "|    25%|                  2|     null|                52|\n",
      "|    50%|                  2|     null|                82|\n",
      "|    75%|                  2|     null|               166|\n",
      "|    max|                  2|     null|               265|\n",
      "+-------+-------------------+---------+------------------+\n",
      "\n"
     ]
    },
    {
     "name": "stderr",
     "output_type": "stream",
     "text": [
      "                                                                                \r"
     ]
    }
   ],
   "source": [
    "green.select('VendorID','ehail_fee','PULocationID').summary().show()"
   ]
  },
  {
   "cell_type": "code",
   "execution_count": 51,
   "metadata": {},
   "outputs": [],
   "source": [
    "def get_col_types(df) -> dict:\n",
    "    \"\"\"\n",
    "    Returns dict of types containing column names\n",
    "    Types detected:\n",
    "        int\n",
    "        string\n",
    "        float\n",
    "        timestamp\n",
    "    \"\"\"\n",
    "    dtypes = ['int', 'string', 'float', 'timestamp']\n",
    "    col_all = df.columns\n",
    "    col_ints = [col for col in col_all if \"_time\" in col or \"ID\" in col or \"_type\" in col or \"_count\" in col]\n",
    "    col_str = [col for col in col_all if \"_num\" in col or \"_flag\" in col]\n",
    "    col_timestamp = [col for col in col_all if \"_datetime\" in col]\n",
    "    col_flt = [col for col in col_all if col not in col_ints and col not in col_str and col not in col_timestamp]\n",
    "    return dict(zip(dtypes, [col_ints, col_str, col_flt, col_timestamp]))\n",
    "\n",
    "dtypes = get_col_types(green)\n",
    "                \n",
    "    "
   ]
  },
  {
   "cell_type": "code",
   "execution_count": 22,
   "metadata": {},
   "outputs": [
    {
     "name": "stdout",
     "output_type": "stream",
     "text": [
      "int: ['VendorID', 'RatecodeID', 'PULocationID', 'DOLocationID', 'payment_type', 'trip_type']\n",
      "string: ['store_and_fwd_flag']\n",
      "float: ['passenger_count', 'trip_distance', 'fare_amount', 'extra', 'mta_tax', 'tip_amount', 'tolls_amount', 'ehail_fee', 'improvement_surcharge', 'total_amount', 'congestion_surcharge']\n",
      "timestamp: ['lpep_pickup_datetime', 'lpep_dropoff_datetime']\n"
     ]
    }
   ],
   "source": [
    "for k in dtypes:\n",
    "    print(f'{k}: {dtypes[k]}')"
   ]
  },
  {
   "cell_type": "code",
   "execution_count": 23,
   "metadata": {},
   "outputs": [
    {
     "name": "stdout",
     "output_type": "stream",
     "text": [
      "int: ['PULocationID', 'DOLocationID', 'trip_time']\n",
      "string: ['hvfhs_license_num', 'dispatching_base_num', 'originating_base_num', 'shared_request_flag', 'shared_match_flag', 'access_a_ride_flag', 'wav_request_flag', 'wav_match_flag']\n",
      "float: ['trip_miles', 'base_passenger_fare', 'tolls', 'bcf', 'sales_tax', 'congestion_surcharge', 'airport_fee', 'tips', 'driver_pay']\n",
      "timestamp: ['request_datetime', 'on_scene_datetime', 'pickup_datetime', 'dropoff_datetime']\n"
     ]
    }
   ],
   "source": [
    "fhvhv_dtypes = get_col_types(df)\n",
    "for k in fhvhv_dtypes:\n",
    "    print(f'{k}: {fhvhv_dtypes[k]}')"
   ]
  },
  {
   "cell_type": "markdown",
   "metadata": {},
   "source": [
    "## Schema\n",
    "\n",
    "- `*_datetime`: timestamp\n",
    "- `*_num` or `*_flag`: string\n",
    "- `*_time` or `*ID`: Integer\n",
    "- all others: Float"
   ]
  },
  {
   "cell_type": "code",
   "execution_count": 28,
   "metadata": {},
   "outputs": [],
   "source": [
    "from pyspark.sql import functions as F"
   ]
  },
  {
   "cell_type": "code",
   "execution_count": 29,
   "metadata": {},
   "outputs": [
    {
     "data": {
      "text/plain": [
       "DataFrame[hvfhs_license_num: string, dispatching_base_num: string, originating_base_num: string, request_datetime: timestamp, on_scene_datetime: timestamp, pickup_datetime: timestamp, dropoff_datetime: timestamp, PULocationID: int, DOLocationID: bigint, trip_miles: double, trip_time: bigint, base_passenger_fare: double, tolls: double, bcf: double, sales_tax: double, congestion_surcharge: double, airport_fee: double, tips: double, driver_pay: double, shared_request_flag: string, shared_match_flag: string, access_a_ride_flag: string, wav_request_flag: string, wav_match_flag: string]"
      ]
     },
     "execution_count": 29,
     "metadata": {},
     "output_type": "execute_result"
    }
   ],
   "source": [
    "df.withColumn('PULocationID', F.col('PULocationID').cast(types.IntegerType()))"
   ]
  },
  {
   "cell_type": "code",
   "execution_count": 30,
   "metadata": {},
   "outputs": [
    {
     "data": {
      "text/plain": [
       "DataFrame[hvfhs_license_num: string, dispatching_base_num: string, originating_base_num: string, request_datetime: timestamp, on_scene_datetime: timestamp, pickup_datetime: timestamp, dropoff_datetime: timestamp, PULocationID: smallint, DOLocationID: smallint, trip_miles: double, trip_time: bigint, base_passenger_fare: double, tolls: double, bcf: double, sales_tax: double, congestion_surcharge: double, airport_fee: double, tips: double, driver_pay: double, shared_request_flag: string, shared_match_flag: string, access_a_ride_flag: string, wav_request_flag: string, wav_match_flag: string]"
      ]
     },
     "execution_count": 30,
     "metadata": {},
     "output_type": "execute_result"
    }
   ],
   "source": [
    "# Casting multiple columns\n",
    "df.withColumns({\n",
    "    'PULocationID': F.col('PULocationID').cast(types.ShortType()),\n",
    "    'DOLocationID': F.col('DOLocationID').cast(types.ShortType())\n",
    "})"
   ]
  },
  {
   "cell_type": "code",
   "execution_count": 33,
   "metadata": {},
   "outputs": [
    {
     "name": "stdout",
     "output_type": "stream",
     "text": [
      "+------------+------------+\n",
      "|PULocationID|DOLocationID|\n",
      "+------------+------------+\n",
      "|         230|         166|\n",
      "|         152|         167|\n",
      "|         233|         142|\n",
      "|         142|         143|\n",
      "|         143|          78|\n",
      "+------------+------------+\n",
      "only showing top 5 rows\n",
      "\n"
     ]
    }
   ],
   "source": [
    "df.select('PULocationID','DOLocationID').show(5)"
   ]
  },
  {
   "cell_type": "code",
   "execution_count": 34,
   "metadata": {
    "jupyter": {
     "source_hidden": true
    },
    "tags": []
   },
   "outputs": [],
   "source": [
    "green_schema = types.StructType([\n",
    "    types.StructField(\"VendorID\", types.LongType(), True),\n",
    "    types.StructField(\"lpep_pickup_datetime\", types.TimestampType(), True),\n",
    "    types.StructField(\"lpep_dropoff_datetime\", types.TimestampType(), True),\n",
    "    types.StructField(\"store_and_fwd_flag\", types.StringType(), True),\n",
    "    types.StructField(\"RatecodeID\", types.DoubleType(), True),\n",
    "    types.StructField(\"PULocationID\", types.LongType(), True),\n",
    "    types.StructField(\"DOLocationID\", types.LongType(), True),\n",
    "    types.StructField(\"passenger_count\", types.LongType(), True),\n",
    "    types.StructField(\"trip_distance\", types.DoubleType(), True),\n",
    "    types.StructField(\"fare_amount\", types.DoubleType(), True),\n",
    "    types.StructField(\"extra\", types.DoubleType(), True),\n",
    "    types.StructField(\"mta_tax\", types.DoubleType(), True),\n",
    "    types.StructField(\"tip_amount\", types.DoubleType(), True),\n",
    "    types.StructField(\"tolls_amount\", types.DoubleType(), True),\n",
    "    types.StructField(\"ehail_fee\", types.DoubleType(), True),\n",
    "    types.StructField(\"improvement_surcharge\", types.DoubleType(), True),\n",
    "    types.StructField(\"total_amount\", types.DoubleType(), True),\n",
    "    types.StructField(\"payment_type\", types.LongType(), True),\n",
    "    types.StructField(\"trip_type\", types.LongType(), True),\n",
    "    types.StructField(\"congestion_surcharge\", types.DoubleType(), True)\n",
    "])\n",
    "\n",
    "yellow_schema = types.StructType([\n",
    "    types.StructField(\"VendorID\", types.LongType(), True),\n",
    "    types.StructField(\"tpep_pickup_datetime\", types.TimestampType(), True),\n",
    "    types.StructField(\"tpep_dropoff_datetime\", types.TimestampType(), True),\n",
    "    types.StructField(\"passenger_count\", types.LongType(), True),\n",
    "    types.StructField(\"trip_distance\", types.DoubleType(), True),\n",
    "    types.StructField(\"RatecodeID\", types.DoubleType(), True),\n",
    "    types.StructField(\"store_and_fwd_flag\", types.StringType(), True),\n",
    "    types.StructField(\"PULocationID\", types.LongType(), True),\n",
    "    types.StructField(\"DOLocationID\", types.LongType(), True),\n",
    "    types.StructField(\"payment_type\", types.LongType(), True),\n",
    "    types.StructField(\"fare_amount\", types.DoubleType(), True),\n",
    "    types.StructField(\"extra\", types.DoubleType(), True),\n",
    "    types.StructField(\"mta_tax\", types.DoubleType(), True),\n",
    "    types.StructField(\"tip_amount\", types.DoubleType(), True),\n",
    "    types.StructField(\"tolls_amount\", types.DoubleType(), True),\n",
    "    types.StructField(\"improvement_surcharge\", types.DoubleType(), True),\n",
    "    types.StructField(\"total_amount\", types.DoubleType(), True),\n",
    "    types.StructField(\"congestion_surcharge\", types.DoubleType(), True)\n",
    "])\n",
    "\n",
    "hvfhv_schema = types.StructType([\n",
    "    types.StructField('hvfhs_license_num', types.StringType(), True),\n",
    "    types.StructField('dispatching_base_num', types.StringType(), True),\n",
    "    types.StructField('originating_base_num', types.StringType(), True),\n",
    "    types.StructField('request_datetime', types.TimestampType(), True),\n",
    "    types.StructField('on_scene_datetime', types.TimestampType(), True),\n",
    "    types.StructField('pickup_datetime', types.TimestampType(), True),\n",
    "    types.StructField('dropoff_datetime', types.TimestampType(), True),\n",
    "    types.StructField('PULocationID', types.LongType(), True),\n",
    "    types.StructField('DOLocationID', types.LongType(), True),\n",
    "    types.StructField('trip_miles', types.DoubleType(), True),\n",
    "    types.StructField('trip_time', types.LongType(), True),\n",
    "    types.StructField('base_passenger_fare', types.DoubleType(), True),\n",
    "    types.StructField('tolls', types.DoubleType(), True),\n",
    "    types.StructField('bcf', types.DoubleType(), True),\n",
    "    types.StructField('sales_tax', types.DoubleType(), True),\n",
    "    types.StructField('congestion_surcharge', types.DoubleType(), True),\n",
    "    types.StructField('airport_fee', types.DoubleType(), True),\n",
    "    types.StructField('tips', types.DoubleType(), True),\n",
    "    types.StructField('driver_pay', types.DoubleType(), True),\n",
    "    types.StructField('shared_request_flag', types.StringType(), True),\n",
    "    types.StructField('shared_match_flag', types.StringType(), True),\n",
    "    types.StructField('access_a_ride_flag', types.StringType(), True),\n",
    "    types.StructField('wav_request_flag', types.StringType(), True),\n",
    "    types.StructField('wav_match_flag', types.StringType(), True)\n",
    "    ]\n",
    ")"
   ]
  },
  {
   "cell_type": "code",
   "execution_count": 45,
   "metadata": {},
   "outputs": [],
   "source": [
    "def cast_schema(spark_client, raw_path: Path, parts_dir: Path, num_parts: int = 4):\n",
    "    \"\"\"\n",
    "    Reads parquet from raw_path, casts the input schema onto it,\n",
    "    then partitions into output folder\n",
    "    \"\"\"\n",
    "    # read as-is\n",
    "    df = spark_client.read \\\n",
    "        .option('header', 'true') \\\n",
    "        .parquet(str(raw_path))\n",
    "    # get schema\n",
    "    schema = get_col_types(df)\n",
    "    # cast schema\n",
    "    for dtype in schema:\n",
    "        match dtype:\n",
    "            case 'int':\n",
    "                spark_type = types.IntegerType()\n",
    "            case 'string':\n",
    "                spark_type = types.StringType()\n",
    "            case 'float':\n",
    "                spark_type = types.FloatType()\n",
    "            case 'timestamp':\n",
    "                spark_type = types.TimestampType()\n",
    "        col_map = {col: F.col(col).cast(spark_type) for col in schema[dtype]}\n",
    "        # withColumns() returns a new dataframe\n",
    "        df = df.withColumns(col_map)\n",
    "    # repartition and write\n",
    "    df \\\n",
    "        .repartition(num_parts) \\\n",
    "        .write.parquet(\n",
    "            str(parts_dir),\n",
    "            mode='overwrite',\n",
    "            compression='gzip')\n",
    "    return df\n"
   ]
  },
  {
   "cell_type": "code",
   "execution_count": 49,
   "metadata": {},
   "outputs": [
    {
     "name": "stderr",
     "output_type": "stream",
     "text": [
      "[Stage 43:===========================================>              (3 + 1) / 4]\r"
     ]
    },
    {
     "name": "stdout",
     "output_type": "stream",
     "text": [
      "root\n",
      " |-- hvfhs_license_num: string (nullable = true)\n",
      " |-- dispatching_base_num: string (nullable = true)\n",
      " |-- originating_base_num: string (nullable = true)\n",
      " |-- request_datetime: timestamp (nullable = true)\n",
      " |-- on_scene_datetime: timestamp (nullable = true)\n",
      " |-- pickup_datetime: timestamp (nullable = true)\n",
      " |-- dropoff_datetime: timestamp (nullable = true)\n",
      " |-- PULocationID: integer (nullable = true)\n",
      " |-- DOLocationID: integer (nullable = true)\n",
      " |-- trip_miles: float (nullable = true)\n",
      " |-- trip_time: integer (nullable = true)\n",
      " |-- base_passenger_fare: float (nullable = true)\n",
      " |-- tolls: float (nullable = true)\n",
      " |-- bcf: float (nullable = true)\n",
      " |-- sales_tax: float (nullable = true)\n",
      " |-- congestion_surcharge: float (nullable = true)\n",
      " |-- airport_fee: float (nullable = true)\n",
      " |-- tips: float (nullable = true)\n",
      " |-- driver_pay: float (nullable = true)\n",
      " |-- shared_request_flag: string (nullable = true)\n",
      " |-- shared_match_flag: string (nullable = true)\n",
      " |-- access_a_ride_flag: string (nullable = true)\n",
      " |-- wav_request_flag: string (nullable = true)\n",
      " |-- wav_match_flag: string (nullable = true)\n",
      "\n"
     ]
    },
    {
     "name": "stderr",
     "output_type": "stream",
     "text": [
      "                                                                                \r"
     ]
    }
   ],
   "source": [
    "out_dir = Path(\"../data/taxi_ingest_data/parts/fhvhv/2021/01/\")\n",
    "# if not out_dir.exists():\n",
    "#     out_dir.mkdir(parents=True)\n",
    "hv_path = Path(\"../data/taxi_ingest_data/raw/fhvhv/fhvhv_tripdata_2021-01.parquet\")\n",
    "hv = cast_schema(spark, hv_path, out_dir)\n",
    "hv.printSchema()"
   ]
  },
  {
   "cell_type": "code",
   "execution_count": 50,
   "metadata": {},
   "outputs": [
    {
     "name": "stdout",
     "output_type": "stream",
     "text": [
      "root\n",
      " |-- hvfhs_license_num: string (nullable = true)\n",
      " |-- dispatching_base_num: string (nullable = true)\n",
      " |-- originating_base_num: string (nullable = true)\n",
      " |-- request_datetime: timestamp (nullable = true)\n",
      " |-- on_scene_datetime: timestamp (nullable = true)\n",
      " |-- pickup_datetime: timestamp (nullable = true)\n",
      " |-- dropoff_datetime: timestamp (nullable = true)\n",
      " |-- PULocationID: integer (nullable = true)\n",
      " |-- DOLocationID: integer (nullable = true)\n",
      " |-- trip_miles: float (nullable = true)\n",
      " |-- trip_time: integer (nullable = true)\n",
      " |-- base_passenger_fare: float (nullable = true)\n",
      " |-- tolls: float (nullable = true)\n",
      " |-- bcf: float (nullable = true)\n",
      " |-- sales_tax: float (nullable = true)\n",
      " |-- congestion_surcharge: float (nullable = true)\n",
      " |-- airport_fee: float (nullable = true)\n",
      " |-- tips: float (nullable = true)\n",
      " |-- driver_pay: float (nullable = true)\n",
      " |-- shared_request_flag: string (nullable = true)\n",
      " |-- shared_match_flag: string (nullable = true)\n",
      " |-- access_a_ride_flag: string (nullable = true)\n",
      " |-- wav_request_flag: string (nullable = true)\n",
      " |-- wav_match_flag: string (nullable = true)\n",
      "\n"
     ]
    }
   ],
   "source": [
    "df_read = spark.read \\\n",
    "    .option('header', 'true') \\\n",
    "    .parquet(str(out_dir))\n",
    "df_read.printSchema()"
   ]
  },
  {
   "cell_type": "code",
   "execution_count": 55,
   "metadata": {},
   "outputs": [
    {
     "name": "stderr",
     "output_type": "stream",
     "text": [
      "                                                                                \r"
     ]
    },
    {
     "data": {
      "text/plain": [
       "DataFrame[hvfhs_license_num: string, dispatching_base_num: string, originating_base_num: string, request_datetime: timestamp, on_scene_datetime: timestamp, pickup_datetime: timestamp, dropoff_datetime: timestamp, PULocationID: int, DOLocationID: int, trip_miles: float, trip_time: int, base_passenger_fare: float, tolls: float, bcf: float, sales_tax: float, congestion_surcharge: float, airport_fee: float, tips: float, driver_pay: float, shared_request_flag: string, shared_match_flag: string, access_a_ride_flag: string, wav_request_flag: string, wav_match_flag: string]"
      ]
     },
     "execution_count": 55,
     "metadata": {},
     "output_type": "execute_result"
    }
   ],
   "source": [
    "# hvfhv 2021-02\n",
    "fmonth = \"02\"\n",
    "out_dir = Path(f\"../data/taxi_ingest_data/parts/fhvhv/2021/{fmonth}/\")\n",
    "# if not out_dir.exists():\n",
    "#     out_dir.mkdir(parents=True)\n",
    "hv_path = Path(f\"../data/taxi_ingest_data/raw/fhvhv/fhvhv_tripdata_2021-{fmonth}.parquet\")\n",
    "cast_schema(spark, hv_path, out_dir)"
   ]
  },
  {
   "cell_type": "code",
   "execution_count": 52,
   "metadata": {},
   "outputs": [
    {
     "name": "stderr",
     "output_type": "stream",
     "text": [
      "                                                                                \r"
     ]
    }
   ],
   "source": [
    "taxi_type = 'green'\n",
    "year = 2020\n",
    "month = 1\n",
    "raw_path = Path(f\"../data/taxi_ingest_data/raw/{taxi_type}/{taxi_type}_tripdata_{year}-{month:02d}.parquet\")\n",
    "out_dir = Path(f\"../data/taxi_ingest_data/parts/{taxi_type}/{year}/{month:02d}/\")\n",
    "g = cast_schema(spark, raw_path, out_dir)"
   ]
  },
  {
   "cell_type": "code",
   "execution_count": 53,
   "metadata": {},
   "outputs": [
    {
     "name": "stdout",
     "output_type": "stream",
     "text": [
      "root\n",
      " |-- VendorID: integer (nullable = true)\n",
      " |-- lpep_pickup_datetime: timestamp (nullable = true)\n",
      " |-- lpep_dropoff_datetime: timestamp (nullable = true)\n",
      " |-- store_and_fwd_flag: string (nullable = true)\n",
      " |-- RatecodeID: integer (nullable = true)\n",
      " |-- PULocationID: integer (nullable = true)\n",
      " |-- DOLocationID: integer (nullable = true)\n",
      " |-- passenger_count: integer (nullable = true)\n",
      " |-- trip_distance: float (nullable = true)\n",
      " |-- fare_amount: float (nullable = true)\n",
      " |-- extra: float (nullable = true)\n",
      " |-- mta_tax: float (nullable = true)\n",
      " |-- tip_amount: float (nullable = true)\n",
      " |-- tolls_amount: float (nullable = true)\n",
      " |-- ehail_fee: float (nullable = true)\n",
      " |-- improvement_surcharge: float (nullable = true)\n",
      " |-- total_amount: float (nullable = true)\n",
      " |-- payment_type: integer (nullable = true)\n",
      " |-- trip_type: integer (nullable = true)\n",
      " |-- congestion_surcharge: float (nullable = true)\n",
      "\n"
     ]
    }
   ],
   "source": [
    "g.printSchema()"
   ]
  },
  {
   "cell_type": "code",
   "execution_count": 54,
   "metadata": {},
   "outputs": [
    {
     "name": "stdout",
     "output_type": "stream",
     "text": [
      "root\n",
      " |-- VendorID: integer (nullable = true)\n",
      " |-- lpep_pickup_datetime: timestamp (nullable = true)\n",
      " |-- lpep_dropoff_datetime: timestamp (nullable = true)\n",
      " |-- store_and_fwd_flag: string (nullable = true)\n",
      " |-- RatecodeID: integer (nullable = true)\n",
      " |-- PULocationID: integer (nullable = true)\n",
      " |-- DOLocationID: integer (nullable = true)\n",
      " |-- passenger_count: integer (nullable = true)\n",
      " |-- trip_distance: float (nullable = true)\n",
      " |-- fare_amount: float (nullable = true)\n",
      " |-- extra: float (nullable = true)\n",
      " |-- mta_tax: float (nullable = true)\n",
      " |-- tip_amount: float (nullable = true)\n",
      " |-- tolls_amount: float (nullable = true)\n",
      " |-- ehail_fee: float (nullable = true)\n",
      " |-- improvement_surcharge: float (nullable = true)\n",
      " |-- total_amount: float (nullable = true)\n",
      " |-- payment_type: integer (nullable = true)\n",
      " |-- trip_type: integer (nullable = true)\n",
      " |-- congestion_surcharge: float (nullable = true)\n",
      "\n"
     ]
    }
   ],
   "source": [
    "g = spark.read.option('header','true').parquet(str(out_dir))\n",
    "g.printSchema()"
   ]
  },
  {
   "cell_type": "code",
   "execution_count": 56,
   "metadata": {},
   "outputs": [
    {
     "name": "stderr",
     "output_type": "stream",
     "text": [
      "                                                                                \r"
     ]
    }
   ],
   "source": [
    "taxi_types = ['green', 'yellow']\n",
    "years = list(range(2020, 2022))\n",
    "for taxi_type, year in zip(taxi_types, years):\n",
    "    for month in range(1, 13):\n",
    "        raw_path = Path(f\"../data/taxi_ingest_data/raw/{taxi_type}/{taxi_type}_tripdata_{year}-{month:02d}.parquet\")\n",
    "        out_dir = Path(f\"../data/taxi_ingest_data/parts/{taxi_type}/{year}/{month:02d}/\")\n",
    "        cast_schema(spark, raw_path=raw_path, parts_dir=out_dir)\n"
   ]
  },
  {
   "cell_type": "code",
   "execution_count": null,
   "metadata": {},
   "outputs": [],
   "source": []
  }
 ],
 "metadata": {
  "kernelspec": {
   "display_name": "Python 3 (ipykernel)",
   "language": "python",
   "name": "python3"
  },
  "language_info": {
   "codemirror_mode": {
    "name": "ipython",
    "version": 3
   },
   "file_extension": ".py",
   "mimetype": "text/x-python",
   "name": "python",
   "nbconvert_exporter": "python",
   "pygments_lexer": "ipython3",
   "version": "3.10.6"
  },
  "vscode": {
   "interpreter": {
    "hash": "a5353673437182399eff36f4c16ed56ea0c7acdfe0ac221ac5d31504a99f322a"
   }
  }
 },
 "nbformat": 4,
 "nbformat_minor": 4
}
