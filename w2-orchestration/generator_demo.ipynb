{
 "cells": [
  {
   "cell_type": "code",
   "execution_count": 1,
   "metadata": {},
   "outputs": [],
   "source": [
    "import time"
   ]
  },
  {
   "cell_type": "code",
   "execution_count": 1,
   "metadata": {},
   "outputs": [],
   "source": [
    "def csv_gen(limit: int = 4):\n",
    "    \"\"\"Demonstrate multiple yield statements in a function\"\"\"\n",
    "    print(f\"first yield the limit: {limit}\")\n",
    "    yield limit\n",
    "    print(f\"then the numbers from 0 to {limit}\")\n",
    "    for i in range(limit):\n",
    "        yield i"
   ]
  },
  {
   "cell_type": "code",
   "execution_count": 5,
   "metadata": {},
   "outputs": [
    {
     "name": "stdout",
     "output_type": "stream",
     "text": [
      "first yield the limit: 4\n",
      "0: 4\n",
      "then the numbers from 0 to 4\n",
      "1: 0\n",
      "2: 1\n",
      "3: 2\n",
      "4: 3\n"
     ]
    }
   ],
   "source": [
    "for i, num in enumerate(csv_gen()):\n",
    "    print(f\"{i}: {num}\")\n",
    "    "
   ]
  },
  {
   "cell_type": "code",
   "execution_count": 2,
   "metadata": {},
   "outputs": [
    {
     "name": "stdout",
     "output_type": "stream",
     "text": [
      "first yield the limit: 4\n",
      "4\n",
      "then the numbers from 0 to 4\n",
      "0\n",
      "1\n",
      "2\n",
      "3\n",
      "finished\n"
     ]
    }
   ],
   "source": [
    "foo = csv_gen()\n",
    "try:\n",
    "    while True:    \n",
    "        print(next(foo))\n",
    "\n",
    "except StopIteration:\n",
    "    print(\"finished\")\n"
   ]
  },
  {
   "cell_type": "code",
   "execution_count": 3,
   "metadata": {},
   "outputs": [
    {
     "name": "stdout",
     "output_type": "stream",
     "text": [
      "first yield the limit: 4\n",
      "4\n",
      "then the numbers from 0 to 4\n"
     ]
    }
   ],
   "source": [
    "foo = csv_gen()\n",
    "while (bar := next(foo)):\n",
    "    print(bar)"
   ]
  },
  {
   "cell_type": "code",
   "execution_count": 2,
   "metadata": {},
   "outputs": [],
   "source": [
    "from prefect.filesystems import GitHub\n",
    "\n",
    "github_block = GitHub.load(\"de-zoom-gh\")"
   ]
  },
  {
   "cell_type": "code",
   "execution_count": 3,
   "metadata": {},
   "outputs": [
    {
     "name": "stdout",
     "output_type": "stream",
     "text": [
      "<class 'coroutine'>\n"
     ]
    }
   ],
   "source": [
    "print(type(github_block))"
   ]
  },
  {
   "cell_type": "code",
   "execution_count": 4,
   "metadata": {},
   "outputs": [
    {
     "name": "stdout",
     "output_type": "stream",
     "text": [
      "['__repr__', '__getattribute__', '__del__', '__await__', 'send', 'throw', 'close', 'cr_frame', 'cr_code', 'cr_origin', '__name__', '__qualname__', 'cr_await', 'cr_running', '__doc__', '__new__', '__hash__', '__str__', '__setattr__', '__delattr__', '__lt__', '__le__', '__eq__', '__ne__', '__gt__', '__ge__', '__init__', '__reduce_ex__', '__reduce__', '__subclasshook__', '__init_subclass__', '__format__', '__sizeof__', '__dir__', '__class__']\n"
     ]
    }
   ],
   "source": [
    "from prefect_github.repository import GitHubRepository\n",
    "\n",
    "gh_blk = GitHubRepository.load(\"de-zoom-gh\")\n",
    "\n",
    "print(gh_blk.__dir__())"
   ]
  },
  {
   "cell_type": "code",
   "execution_count": 5,
   "metadata": {},
   "outputs": [
    {
     "ename": "AttributeError",
     "evalue": "'coroutine' object has no attribute 'get_directory'",
     "output_type": "error",
     "traceback": [
      "\u001b[0;31m---------------------------------------------------------------------------\u001b[0m",
      "\u001b[0;31mAttributeError\u001b[0m                            Traceback (most recent call last)",
      "Cell \u001b[0;32mIn[5], line 1\u001b[0m\n\u001b[0;32m----> 1\u001b[0m gh_blk\u001b[39m.\u001b[39;49mget_directory(from_path\u001b[39m=\u001b[39m\u001b[39m\"\u001b[39m\u001b[39mpyproject.toml\u001b[39m\u001b[39m\"\u001b[39m, local_path\u001b[39m=\u001b[39m\u001b[39m\"\u001b[39m\u001b[39mlocal_py.toml\u001b[39m\u001b[39m\"\u001b[39m)\n",
      "\u001b[0;31mAttributeError\u001b[0m: 'coroutine' object has no attribute 'get_directory'"
     ]
    }
   ],
   "source": [
    "gh_blk.get_directory(from_path=\"pyproject.toml\", local_path=\"local_py.toml\")"
   ]
  },
  {
   "cell_type": "code",
   "execution_count": null,
   "metadata": {},
   "outputs": [],
   "source": []
  }
 ],
 "metadata": {
  "kernelspec": {
   "display_name": "de-zoomcamp-ofDTZRjf-py3.10",
   "language": "python",
   "name": "python3"
  },
  "language_info": {
   "codemirror_mode": {
    "name": "ipython",
    "version": 3
   },
   "file_extension": ".py",
   "mimetype": "text/x-python",
   "name": "python",
   "nbconvert_exporter": "python",
   "pygments_lexer": "ipython3",
   "version": "3.10.6"
  },
  "orig_nbformat": 4,
  "vscode": {
   "interpreter": {
    "hash": "a5353673437182399eff36f4c16ed56ea0c7acdfe0ac221ac5d31504a99f322a"
   }
  }
 },
 "nbformat": 4,
 "nbformat_minor": 2
}
