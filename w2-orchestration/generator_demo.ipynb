{
 "cells": [
  {
   "cell_type": "code",
   "execution_count": 1,
   "metadata": {},
   "outputs": [],
   "source": [
    "import time"
   ]
  },
  {
   "cell_type": "code",
   "execution_count": 1,
   "metadata": {},
   "outputs": [],
   "source": [
    "def csv_gen(limit: int = 4):\n",
    "    \"\"\"Demonstrate multiple yield statements in a function\"\"\"\n",
    "    print(f\"first yield the limit: {limit}\")\n",
    "    yield limit\n",
    "    print(f\"then the numbers from 0 to {limit}\")\n",
    "    for i in range(limit):\n",
    "        yield i"
   ]
  },
  {
   "cell_type": "code",
   "execution_count": 5,
   "metadata": {},
   "outputs": [
    {
     "name": "stdout",
     "output_type": "stream",
     "text": [
      "first yield the limit: 4\n",
      "0: 4\n",
      "then the numbers from 0 to 4\n",
      "1: 0\n",
      "2: 1\n",
      "3: 2\n",
      "4: 3\n"
     ]
    }
   ],
   "source": [
    "for i, num in enumerate(csv_gen()):\n",
    "    print(f\"{i}: {num}\")\n",
    "    "
   ]
  },
  {
   "cell_type": "code",
   "execution_count": 2,
   "metadata": {},
   "outputs": [
    {
     "name": "stdout",
     "output_type": "stream",
     "text": [
      "first yield the limit: 4\n",
      "4\n",
      "then the numbers from 0 to 4\n",
      "0\n",
      "1\n",
      "2\n",
      "3\n",
      "finished\n"
     ]
    }
   ],
   "source": [
    "foo = csv_gen()\n",
    "try:\n",
    "    while True:    \n",
    "        print(next(foo))\n",
    "\n",
    "except StopIteration:\n",
    "    print(\"finished\")\n"
   ]
  },
  {
   "cell_type": "code",
   "execution_count": 3,
   "metadata": {},
   "outputs": [
    {
     "name": "stdout",
     "output_type": "stream",
     "text": [
      "first yield the limit: 4\n",
      "4\n",
      "then the numbers from 0 to 4\n"
     ]
    }
   ],
   "source": [
    "foo = csv_gen()\n",
    "while (bar := next(foo)):\n",
    "    print(bar)"
   ]
  },
  {
   "cell_type": "code",
   "execution_count": 10,
   "metadata": {},
   "outputs": [
    {
     "name": "stderr",
     "output_type": "stream",
     "text": [
      "/home/klang/.cache/pypoetry/virtualenvs/de-zoomcamp-ofDTZRjf-py3.10/lib/python3.10/site-packages/prefect/flows.py:206: UserWarning: A flow named 'download-from-repo' and defined at '/tmp/ipykernel_5708/2937864736.py:1' conflicts with another flow. Consider specifying a unique `name` parameter in the flow definition:\n",
      "\n",
      " `@flow(name='my_unique_name', ...)`\n",
      "  warnings.warn(\n"
     ]
    },
    {
     "data": {
      "text/html": [
       "<pre style=\"white-space:pre;overflow-x:auto;line-height:normal;font-family:Menlo,'DejaVu Sans Mono',consolas,'Courier New',monospace\">07:30:58.964 | <span style=\"color: #008080; text-decoration-color: #008080\">INFO</span>    | prefect.engine - Created flow run<span style=\"color: #800080; text-decoration-color: #800080\"> 'sandy-mammoth'</span> for flow<span style=\"color: #800080; text-decoration-color: #800080; font-weight: bold\"> 'download-from-repo'</span>\n",
       "</pre>\n"
      ],
      "text/plain": [
       "07:30:58.964 | \u001b[36mINFO\u001b[0m    | prefect.engine - Created flow run\u001b[35m 'sandy-mammoth'\u001b[0m for flow\u001b[1;35m 'download-from-repo'\u001b[0m\n"
      ]
     },
     "metadata": {},
     "output_type": "display_data"
    },
    {
     "data": {
      "text/html": [
       "<pre style=\"white-space:pre;overflow-x:auto;line-height:normal;font-family:Menlo,'DejaVu Sans Mono',consolas,'Courier New',monospace\">07:31:00.487 | <span style=\"color: #008080; text-decoration-color: #008080\">INFO</span>    | Flow run<span style=\"color: #800080; text-decoration-color: #800080\"> 'sandy-mammoth'</span> - Finished in state <span style=\"color: #008000; text-decoration-color: #008000\">Completed</span>()\n",
       "</pre>\n"
      ],
      "text/plain": [
       "07:31:00.487 | \u001b[36mINFO\u001b[0m    | Flow run\u001b[35m 'sandy-mammoth'\u001b[0m - Finished in state \u001b[32mCompleted\u001b[0m()\n"
      ]
     },
     "metadata": {},
     "output_type": "display_data"
    }
   ],
   "source": [
    "from prefect import flow\n",
    "from prefect.filesystems import GitHub\n",
    "\n",
    "@flow()\n",
    "def download_from_repo():\n",
    "    from_path = \"w2-orchestration/blocks\"\n",
    "    local_path = \"remote_blocks\"\n",
    "    github_block = GitHub.load(\"de-zoom-gh\")\n",
    "    github_block.get_directory(from_path=from_path, local_path=local_path)\n",
    "\n",
    "download_from_repo()"
   ]
  },
  {
   "cell_type": "code",
   "execution_count": 1,
   "metadata": {},
   "outputs": [],
   "source": [
    "from pathlib import Path\n"
   ]
  },
  {
   "cell_type": "code",
   "execution_count": 2,
   "metadata": {},
   "outputs": [
    {
     "name": "stdout",
     "output_type": "stream",
     "text": [
      "etl_web_gcs.py:etl_flow\n"
     ]
    }
   ],
   "source": [
    "fpath = \"etl_web_gcs.py\"\n",
    "obj_name = \"etl_flow\"\n",
    "path = \"./w2-orchestration\"\n",
    "entrypoint = (\n",
    "    f\"{Path(fpath).absolute().relative_to(Path('.').absolute())}:{obj_name}\"\n",
    ")\n",
    "print(entrypoint)"
   ]
  },
  {
   "cell_type": "code",
   "execution_count": 3,
   "metadata": {},
   "outputs": [
    {
     "data": {
      "text/plain": [
       "PosixPath('/home/klang/de-zoomcamp/w2-orchestration')"
      ]
     },
     "execution_count": 3,
     "metadata": {},
     "output_type": "execute_result"
    }
   ],
   "source": [
    "Path('.').absolute()"
   ]
  },
  {
   "cell_type": "code",
   "execution_count": 4,
   "metadata": {},
   "outputs": [
    {
     "data": {
      "text/plain": [
       "PosixPath('/home/klang/de-zoomcamp/w2-orchestration/etl_web_gcs.py')"
      ]
     },
     "execution_count": 4,
     "metadata": {},
     "output_type": "execute_result"
    }
   ],
   "source": [
    "Path(fpath).absolute()"
   ]
  },
  {
   "cell_type": "code",
   "execution_count": 9,
   "metadata": {},
   "outputs": [
    {
     "name": "stdout",
     "output_type": "stream",
     "text": [
      "github de-zoom-gh ['w2-orchestration', '']\n"
     ]
    }
   ],
   "source": [
    "storage_block = \"github/de-zoom-gh/w2-orchestration/\"\n",
    "block_type, block_name, *block_path = storage_block.split(\"/\")\n",
    "print(block_type, block_name, block_path)"
   ]
  },
  {
   "cell_type": "code",
   "execution_count": 10,
   "metadata": {},
   "outputs": [
    {
     "data": {
      "text/plain": [
       "'w2-orchestration/'"
      ]
     },
     "execution_count": 10,
     "metadata": {},
     "output_type": "execute_result"
    }
   ],
   "source": [
    "\"/\".join(block_path)"
   ]
  },
  {
   "cell_type": "code",
   "execution_count": 11,
   "metadata": {},
   "outputs": [
    {
     "data": {
      "text/plain": [
       "14851920"
      ]
     },
     "execution_count": 11,
     "metadata": {},
     "output_type": "execute_result"
    }
   ],
   "source": [
    "7019375 + 7832545"
   ]
  },
  {
   "cell_type": "code",
   "execution_count": null,
   "metadata": {},
   "outputs": [],
   "source": []
  }
 ],
 "metadata": {
  "kernelspec": {
   "display_name": "de-zoomcamp-ofDTZRjf-py3.10",
   "language": "python",
   "name": "python3"
  },
  "language_info": {
   "codemirror_mode": {
    "name": "ipython",
    "version": 3
   },
   "file_extension": ".py",
   "mimetype": "text/x-python",
   "name": "python",
   "nbconvert_exporter": "python",
   "pygments_lexer": "ipython3",
   "version": "3.10.6"
  },
  "orig_nbformat": 4,
  "vscode": {
   "interpreter": {
    "hash": "a5353673437182399eff36f4c16ed56ea0c7acdfe0ac221ac5d31504a99f322a"
   }
  }
 },
 "nbformat": 4,
 "nbformat_minor": 2
}
