{
 "cells": [
  {
   "cell_type": "code",
   "execution_count": 1,
   "metadata": {},
   "outputs": [],
   "source": [
    "import time"
   ]
  },
  {
   "cell_type": "code",
   "execution_count": 1,
   "metadata": {},
   "outputs": [],
   "source": [
    "def csv_gen(limit: int = 4):\n",
    "    \"\"\"Demonstrate multiple yield statements in a function\"\"\"\n",
    "    print(f\"first yield the limit: {limit}\")\n",
    "    yield limit\n",
    "    print(f\"then the numbers from 0 to {limit}\")\n",
    "    for i in range(limit):\n",
    "        yield i"
   ]
  },
  {
   "cell_type": "code",
   "execution_count": 5,
   "metadata": {},
   "outputs": [
    {
     "name": "stdout",
     "output_type": "stream",
     "text": [
      "first yield the limit: 4\n",
      "0: 4\n",
      "then the numbers from 0 to 4\n",
      "1: 0\n",
      "2: 1\n",
      "3: 2\n",
      "4: 3\n"
     ]
    }
   ],
   "source": [
    "for i, num in enumerate(csv_gen()):\n",
    "    print(f\"{i}: {num}\")\n",
    "    "
   ]
  },
  {
   "cell_type": "code",
   "execution_count": 2,
   "metadata": {},
   "outputs": [
    {
     "name": "stdout",
     "output_type": "stream",
     "text": [
      "first yield the limit: 4\n",
      "4\n",
      "then the numbers from 0 to 4\n",
      "0\n",
      "1\n",
      "2\n",
      "3\n",
      "finished\n"
     ]
    }
   ],
   "source": [
    "foo = csv_gen()\n",
    "try:\n",
    "    while True:    \n",
    "        print(next(foo))\n",
    "\n",
    "except StopIteration:\n",
    "    print(\"finished\")\n"
   ]
  },
  {
   "cell_type": "code",
   "execution_count": 3,
   "metadata": {},
   "outputs": [
    {
     "name": "stdout",
     "output_type": "stream",
     "text": [
      "first yield the limit: 4\n",
      "4\n",
      "then the numbers from 0 to 4\n"
     ]
    }
   ],
   "source": [
    "foo = csv_gen()\n",
    "while (bar := next(foo)):\n",
    "    print(bar)"
   ]
  },
  {
   "cell_type": "code",
   "execution_count": null,
   "metadata": {},
   "outputs": [],
   "source": []
  }
 ],
 "metadata": {
  "kernelspec": {
   "display_name": "de-zoomcamp-ofDTZRjf-py3.10",
   "language": "python",
   "name": "python3"
  },
  "language_info": {
   "codemirror_mode": {
    "name": "ipython",
    "version": 3
   },
   "file_extension": ".py",
   "mimetype": "text/x-python",
   "name": "python",
   "nbconvert_exporter": "python",
   "pygments_lexer": "ipython3",
   "version": "3.10.6"
  },
  "orig_nbformat": 4,
  "vscode": {
   "interpreter": {
    "hash": "a5353673437182399eff36f4c16ed56ea0c7acdfe0ac221ac5d31504a99f322a"
   }
  }
 },
 "nbformat": 4,
 "nbformat_minor": 2
}
